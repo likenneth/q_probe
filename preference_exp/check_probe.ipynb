{
 "cells": [
  {
   "cell_type": "code",
   "execution_count": 1,
   "metadata": {
    "tags": []
   },
   "outputs": [],
   "source": [
    "%load_ext autoreload\n",
    "%autoreload 2"
   ]
  },
  {
   "cell_type": "code",
   "execution_count": 2,
   "metadata": {
    "tags": []
   },
   "outputs": [],
   "source": [
    "import os"
   ]
  },
  {
   "cell_type": "code",
   "execution_count": 3,
   "metadata": {
    "tags": []
   },
   "outputs": [],
   "source": [
    "from tqdm import tqdm\n",
    "import numpy as np\n",
    "import pickle\n",
    "import json\n",
    "import random\n",
    "import copy\n",
    "from collections import defaultdict\n",
    "import itertools\n",
    "import multiprocessing\n",
    "from collections import Counter\n",
    "from functools import partial\n",
    "from pprint import pprint\n",
    "\n",
    "import pandas as pd\n",
    "import seaborn as sns\n",
    "import matplotlib.pyplot as plt\n",
    "\n",
    "from value_probes import *\n",
    "from utils import binomial_confidence_interval"
   ]
  },
  {
   "cell_type": "markdown",
   "metadata": {},
   "source": [
    "## Load validation features"
   ]
  },
  {
   "cell_type": "code",
   "execution_count": 4,
   "metadata": {},
   "outputs": [],
   "source": [
    "def load_activations(seed):\n",
    "    feature_train = []\n",
    "    label_train = []\n",
    "\n",
    "    with open(f\"features/llama7b_sft_seed{seed}_res_layer32.npy\", \"rb\") as f:\n",
    "        features = np.load(f)\n",
    "        features = features.reshape(features.shape[0], -1)\n",
    "        feature_train.append(features)\n",
    "\n",
    "    programs, gt_labels = [], []\n",
    "    samples = json.load(open(f\"samples/llama7b_sft_seed{seed}.json\"))[\"samples\"]  # a list of dict with keys ['prompt', 'chosen', 'policy', 'winner']\n",
    "\n",
    "    for sample in samples:\n",
    "        policy = sample[\"prompt\"] + sample[\"policy\"]\n",
    "        programs.append(policy.rstrip())\n",
    "        if sample[\"winner\"] == \"policy\":\n",
    "            gt_labels.append(1)\n",
    "        elif sample[\"winner\"] == \"chosen\":\n",
    "            gt_labels.append(0)\n",
    "        else:\n",
    "            gt_labels.append(-1)\n",
    "\n",
    "    feature_train = np.concatenate(feature_train, axis=0)\n",
    "    feature_train = feature_train[::2, None, :]\n",
    "    # print(feature_train.shape)\n",
    "    label_train = np.array(gt_labels)\n",
    "    # print(label_train.shape)\n",
    "    return feature_train, label_train"
   ]
  },
  {
   "cell_type": "code",
   "execution_count": 5,
   "metadata": {},
   "outputs": [
    {
     "name": "stderr",
     "output_type": "stream",
     "text": [
      "  0%|          | 0/48 [00:00<?, ?it/s]"
     ]
    },
    {
     "name": "stderr",
     "output_type": "stream",
     "text": [
      "100%|██████████| 48/48 [00:00<00:00, 126.32it/s]\n"
     ]
    },
    {
     "name": "stdout",
     "output_type": "stream",
     "text": [
      "(512, 48, 4096)\n",
      "(512, 48)\n"
     ]
    }
   ],
   "source": [
    "feature_vals = []\n",
    "label_vals = []\n",
    "for seed in tqdm(range(1, 49)):\n",
    "    feature_val, label_val = load_activations(seed)\n",
    "    feature_vals.append(feature_val)\n",
    "    label_vals.append(label_val)\n",
    "feature_val = np.concatenate(feature_vals, axis=1)\n",
    "label_val = np.stack(label_vals, axis=-1)\n",
    "print(feature_val.shape)\n",
    "print(label_val.shape)"
   ]
  },
  {
   "cell_type": "markdown",
   "metadata": {
    "tags": []
   },
   "source": [
    "## load training features"
   ]
  },
  {
   "cell_type": "code",
   "execution_count": 6,
   "metadata": {
    "tags": []
   },
   "outputs": [],
   "source": [
    "def load_activations(part, layer, exp_name):\n",
    "    feature_train = []\n",
    "    label_train = []\n",
    "\n",
    "    with open(f\"features/{exp_name}_part{part}of16_res_layer{layer}.npy\", \"rb\") as f:\n",
    "        features = np.load(f)\n",
    "        features = features.reshape(features.shape[0], -1)\n",
    "        feature_train.append(features)\n",
    "\n",
    "    programs, gt_labels = [], []\n",
    "    samples = json.load(open(f\"samples/{exp_name}.json\"))[\"samples\"]  # a list of dict with keys ['prompt', 'chosen', 'policy', 'winner']\n",
    "\n",
    "    for sample in samples:\n",
    "        policy = sample[\"prompt\"] + sample[\"policy\"]\n",
    "        programs.append(policy.rstrip())\n",
    "        gt_labels.append(1 if sample[\"winner\"] == \"policy\" else 0)\n",
    "        chosen = sample[\"prompt\"] + sample[\"chosen\"]\n",
    "        programs.append(chosen.rstrip())\n",
    "        gt_labels.append(1 if sample[\"winner\"] == \"chosen\" else 0)\n",
    "\n",
    "    start_idx = len(programs) // 16 * part\n",
    "    if part == 16 - 1:\n",
    "        end_idx = len(programs)\n",
    "    else:\n",
    "        end_idx = len(programs) // 16 * (part + 1)\n",
    "\n",
    "    feature_train = np.concatenate(feature_train, axis=0)\n",
    "    feature_train = np.concatenate([feature_train[::2, None, :], feature_train[1::2, None, :]], axis=1)\n",
    "    # print(feature_train.shape)\n",
    "    label_train = np.array(gt_labels[start_idx:end_idx][1::2])\n",
    "    # print(label_train.shape)\n",
    "    return feature_train, label_train"
   ]
  },
  {
   "cell_type": "code",
   "execution_count": 7,
   "metadata": {},
   "outputs": [
    {
     "name": "stderr",
     "output_type": "stream",
     "text": [
      "  0%|          | 0/16 [00:00<?, ?it/s]"
     ]
    },
    {
     "name": "stderr",
     "output_type": "stream",
     "text": [
      "100%|██████████| 16/16 [00:22<00:00,  1.43s/it]\n"
     ]
    }
   ],
   "source": [
    "exp_name = \"train_extraction\"\n",
    "# load from multiple parts\n",
    "layer = 32\n",
    "feature_trains = []\n",
    "label_trains = []\n",
    "for part in tqdm(range(16)):\n",
    "    feature_train, label_train = load_activations(part, layer, exp_name)\n",
    "    feature_trains.append(feature_train)\n",
    "    label_trains.append(label_train)\n",
    "feature_train_all = np.concatenate(feature_trains, axis=0)\n",
    "label_train_all = np.concatenate(label_trains, axis=0)"
   ]
  },
  {
   "cell_type": "code",
   "execution_count": 8,
   "metadata": {},
   "outputs": [
    {
     "name": "stdout",
     "output_type": "stream",
     "text": [
      "(40067, 2, 4096)\n",
      "(40067,)\n"
     ]
    }
   ],
   "source": [
    "np.random.seed(0)\n",
    "idx = np.random.choice(len(label_train_all), int(len(label_train_all) * .2), replace=False)\n",
    "feature_train = feature_train_all[idx]\n",
    "label_train = label_train_all[idx]\n",
    "print(feature_train.shape)\n",
    "print(label_train.shape)"
   ]
  },
  {
   "cell_type": "markdown",
   "metadata": {},
   "source": [
    "## Train a probe on training set"
   ]
  },
  {
   "cell_type": "code",
   "execution_count": 9,
   "metadata": {
    "tags": []
   },
   "outputs": [
    {
     "name": "stderr",
     "output_type": "stream",
     "text": [
      "/n/holylfs05/LABS/pfister_lab/Lab/coxfs01/pfister_lab2/Lab/like/anaconda3/envs/halos/lib/python3.10/site-packages/tqdm/auto.py:21: TqdmWarning: IProgress not found. Please update jupyter and ipywidgets. See https://ipywidgets.readthedocs.io/en/stable/user_install.html\n",
      "  from .autonotebook import tqdm as notebook_tqdm\n",
      "/n/holylfs05/LABS/pfister_lab/Lab/coxfs01/pfister_lab2/Lab/like/anaconda3/envs/halos/lib/python3.10/site-packages/transformers/utils/generic.py:441: UserWarning: torch.utils._pytree._register_pytree_node is deprecated. Please use torch.utils._pytree.register_pytree_node instead.\n",
      "  _torch_pytree._register_pytree_node(\n",
      "Training probe, validation accuracy now = 60.93%, train accuracy = 60.93%: 100%|██████████| 150/150 [00:05<00:00, 27.35it/s]\n"
     ]
    },
    {
     "data": {
      "image/png": "[encoded data removed]",
      "text/plain": [
       "<Figure size 640x480 with 2 Axes>"
      ]
     },
     "metadata": {},
     "output_type": "display_data"
    }
   ],
   "source": [
    "if 'value_obj' in globals():\n",
    "    del value_obj\n",
    "value_obj = ProbeTrainer(\n",
    "    feature_train, \n",
    "    label_train, \n",
    "    loss='ce', \n",
    "    tr_pctg=1.0, \n",
    "    batch_size=1024,\n",
    "    layer=1, \n",
    "    lr=5e-5, \n",
    "    num_epochs=150,\n",
    "    weight_decay=0., \n",
    ")\n",
    "acc_bucket, loss_bucket = value_obj.train()\n",
    "\n",
    "fig, ax1 = plt.subplots()\n",
    "\n",
    "# Plotting the training loss\n",
    "ax1.set_xlabel('Epoch')\n",
    "ax1.set_ylabel('Training Loss', color='tab:red')\n",
    "ax1.plot(loss_bucket, color='tab:red')\n",
    "ax1.tick_params(axis='y', labelcolor='tab:red')\n",
    "\n",
    "# Creating another axis for validation accuracy\n",
    "ax2 = ax1.twinx()  \n",
    "ax2.set_ylabel('Validation Accuracy', color='tab:blue') \n",
    "ax2.plot(acc_bucket, color='tab:blue')\n",
    "ax2.tick_params(axis='y', labelcolor='tab:blue')\n",
    "\n",
    "# Displaying the plot\n",
    "plt.title('Training Loss and Validation Accuracy per Epoch')\n",
    "plt.show()"
   ]
  },
  {
   "cell_type": "code",
   "execution_count": 10,
   "metadata": {},
   "outputs": [
    {
     "name": "stdout",
     "output_type": "stream",
     "text": [
      "Before, the winrate is 38.08%\n",
      "After, the winrate is 50.88%\n",
      "An oracle probe would yield a winrate of 91.59%\n"
     ]
    },
    {
     "data": {
      "image/png": "[encoded data removed]",
      "text/plain": [
       "<Figure size 640x480 with 1 Axes>"
      ]
     },
     "metadata": {},
     "output_type": "display_data"
    }
   ],
   "source": [
    "feature_vals_tensor = torch.tensor(feature_val).float().cuda()\n",
    "value_hats = value_obj.probe(feature_vals_tensor).detach().cpu().numpy()\n",
    "sns.histplot(value_hats.flatten(), bins=100)\n",
    "curated_values = value_hats\n",
    "masked_value_hats = np.ma.array(curated_values, mask=label_val == -1)\n",
    "chosen_vals = np.argmax(masked_value_hats, axis=1)\n",
    "rewards = label_val[np.arange(label_val.shape[0]), chosen_vals]\n",
    "new_reward = np.sum(rewards == 1).item() / np.sum(rewards >= 0).item()\n",
    "old_reward = np.sum(label_val == 1).item() / np.sum(label_val >= 0).item()\n",
    "max_rewards = np.max(label_val, axis=-1)\n",
    "max_reward = np.sum(max_rewards == 1).item() / np.sum(max_rewards >= 0).item()\n",
    "print(f\"Before, the winrate is {old_reward * 100:.2f}%\")\n",
    "print(f\"After, the winrate is {new_reward * 100:.2f}%\")\n",
    "print(f\"An oracle probe would yield a winrate of {max_reward * 100:.2f}%\")\n",
    "plt.show()"
   ]
  },
  {
   "cell_type": "markdown",
   "metadata": {},
   "source": [
    "# Sweeping K"
   ]
  },
  {
   "cell_type": "code",
   "execution_count": 11,
   "metadata": {},
   "outputs": [
    {
     "name": "stdout",
     "output_type": "stream",
     "text": [
      "(512, 48)\n",
      "(512, 48)\n"
     ]
    }
   ],
   "source": [
    "print(masked_value_hats.shape)\n",
    "print(label_val.shape)"
   ]
  },
  {
   "cell_type": "code",
   "execution_count": 12,
   "metadata": {},
   "outputs": [
    {
     "data": {
      "text/html": [
       "<div>\n",
       "<style scoped>\n",
       "    .dataframe tbody tr th:only-of-type {\n",
       "        vertical-align: middle;\n",
       "    }\n",
       "\n",
       "    .dataframe tbody tr th {\n",
       "        vertical-align: top;\n",
       "    }\n",
       "\n",
       "    .dataframe thead th {\n",
       "        text-align: right;\n",
       "    }\n",
       "</style>\n",
       "<table border=\"1\" class=\"dataframe\">\n",
       "  <thead>\n",
       "    <tr style=\"text-align: right;\">\n",
       "      <th></th>\n",
       "      <th>seed</th>\n",
       "      <th>k</th>\n",
       "      <th>type</th>\n",
       "      <th>value</th>\n",
       "    </tr>\n",
       "  </thead>\n",
       "  <tbody>\n",
       "    <tr>\n",
       "      <th>0</th>\n",
       "      <td>0</td>\n",
       "      <td>2</td>\n",
       "      <td>Q-softmax</td>\n",
       "      <td>0.441955</td>\n",
       "    </tr>\n",
       "    <tr>\n",
       "      <th>1</th>\n",
       "      <td>0</td>\n",
       "      <td>2</td>\n",
       "      <td>Skyline</td>\n",
       "      <td>0.543788</td>\n",
       "    </tr>\n",
       "    <tr>\n",
       "      <th>2</th>\n",
       "      <td>1</td>\n",
       "      <td>2</td>\n",
       "      <td>Q-softmax</td>\n",
       "      <td>0.432049</td>\n",
       "    </tr>\n",
       "    <tr>\n",
       "      <th>3</th>\n",
       "      <td>1</td>\n",
       "      <td>2</td>\n",
       "      <td>Skyline</td>\n",
       "      <td>0.533469</td>\n",
       "    </tr>\n",
       "    <tr>\n",
       "      <th>4</th>\n",
       "      <td>2</td>\n",
       "      <td>2</td>\n",
       "      <td>Q-softmax</td>\n",
       "      <td>0.404427</td>\n",
       "    </tr>\n",
       "    <tr>\n",
       "      <th>5</th>\n",
       "      <td>2</td>\n",
       "      <td>2</td>\n",
       "      <td>Skyline</td>\n",
       "      <td>0.511066</td>\n",
       "    </tr>\n",
       "    <tr>\n",
       "      <th>6</th>\n",
       "      <td>3</td>\n",
       "      <td>2</td>\n",
       "      <td>Q-softmax</td>\n",
       "      <td>0.421907</td>\n",
       "    </tr>\n",
       "    <tr>\n",
       "      <th>7</th>\n",
       "      <td>3</td>\n",
       "      <td>2</td>\n",
       "      <td>Skyline</td>\n",
       "      <td>0.545639</td>\n",
       "    </tr>\n",
       "    <tr>\n",
       "      <th>8</th>\n",
       "      <td>4</td>\n",
       "      <td>2</td>\n",
       "      <td>Q-softmax</td>\n",
       "      <td>0.416162</td>\n",
       "    </tr>\n",
       "    <tr>\n",
       "      <th>9</th>\n",
       "      <td>4</td>\n",
       "      <td>2</td>\n",
       "      <td>Skyline</td>\n",
       "      <td>0.519192</td>\n",
       "    </tr>\n",
       "    <tr>\n",
       "      <th>10</th>\n",
       "      <td>5</td>\n",
       "      <td>2</td>\n",
       "      <td>Q-softmax</td>\n",
       "      <td>0.421907</td>\n",
       "    </tr>\n",
       "    <tr>\n",
       "      <th>11</th>\n",
       "      <td>5</td>\n",
       "      <td>2</td>\n",
       "      <td>Skyline</td>\n",
       "      <td>0.537525</td>\n",
       "    </tr>\n",
       "  </tbody>\n",
       "</table>\n",
       "</div>"
      ],
      "text/plain": [
       "    seed  k       type     value\n",
       "0      0  2  Q-softmax  0.441955\n",
       "1      0  2    Skyline  0.543788\n",
       "2      1  2  Q-softmax  0.432049\n",
       "3      1  2    Skyline  0.533469\n",
       "4      2  2  Q-softmax  0.404427\n",
       "5      2  2    Skyline  0.511066\n",
       "6      3  2  Q-softmax  0.421907\n",
       "7      3  2    Skyline  0.545639\n",
       "8      4  2  Q-softmax  0.416162\n",
       "9      4  2    Skyline  0.519192\n",
       "10     5  2  Q-softmax  0.421907\n",
       "11     5  2    Skyline  0.537525"
      ]
     },
     "execution_count": 12,
     "metadata": {},
     "output_type": "execute_result"
    }
   ],
   "source": [
    "res_list = []\n",
    "for k in range(2, 49):\n",
    "    for seed in range(10):\n",
    "        np.random.seed(seed)\n",
    "        idx = np.random.choice(48, k, replace=False)\n",
    "        selected_masked_value_hats = masked_value_hats[:, idx]\n",
    "        selected_label_val = label_val[:, idx]\n",
    "        max_rewards = np.max(selected_label_val, axis=-1)\n",
    "        max_reward = np.sum(max_rewards == 1).item() / np.sum(max_rewards >= 0).item()\n",
    "        chosen_vals = np.argmax(selected_masked_value_hats, axis=1)\n",
    "        rewards = selected_label_val[np.arange(selected_label_val.shape[0]), chosen_vals]\n",
    "        new_reward = np.sum(rewards == 1).item() / np.sum(rewards >= 0).item()\n",
    "        res_list.append(dict(seed=seed, k=k, type=\"Q-softmax\", value=new_reward))\n",
    "        res_list.append(dict(seed=seed, k=k, type=\"Skyline\", value=max_reward))\n",
    "res_list.append(dict(seed=0, k=1, type=\"Q-softmax\", value=np.sum(label_val == 1).item() / np.sum(label_val >= 0).item()))\n",
    "res_list.append(dict(seed=0, k=1, type=\"Skyline\", value=np.sum(label_val == 1).item() / np.sum(label_val >= 0).item()))\n",
    "df = pd.DataFrame(res_list)\n",
    "df.head(12)"
   ]
  },
  {
   "cell_type": "code",
   "execution_count": 13,
   "metadata": {},
   "outputs": [
    {
     "data": {
      "image/png": "[encoded data removed]",
      "text/plain": [
       "<Figure size 800x600 with 1 Axes>"
      ]
     },
     "metadata": {},
     "output_type": "display_data"
    }
   ],
   "source": [
    "fs = 20\n",
    "sns.set_style(\"darkgrid\", {\"axes.facecolor\": \".95\"})\n",
    "fig, ax =plt.subplots(figsize=(10, 7.5), dpi= 80, facecolor='w', edgecolor='k')\n",
    "plt.rcParams['font.size'] = fs\n",
    "\n",
    "sns.lineplot(data=df, x=\"k\", y=\"value\", hue=\"type\", errorbar=('ci', 95), ax=ax)\n",
    "ax.set_xlim(right=50, left=0)\n",
    "ax.set_xlabel(\"K, Nuber of Candidate Generations\", fontsize=fs)\n",
    "ax.set_ylabel(\"Win Rate\", fontsize=fs)\n",
    "ax.legend(bbox_to_anchor=(0., 1), loc='upper left', frameon=False)\n",
    "plt.show()"
   ]
  },
  {
   "cell_type": "code",
   "execution_count": null,
   "metadata": {},
   "outputs": [],
   "source": []
  }
 ],
 "metadata": {
  "kernelspec": {
   "display_name": "halos",
   "language": "python",
   "name": "python3"
  },
  "language_info": {
   "codemirror_mode": {
    "name": "ipython",
    "version": 3
   },
   "file_extension": ".py",
   "mimetype": "text/x-python",
   "name": "python",
   "nbconvert_exporter": "python",
   "pygments_lexer": "ipython3",
   "version": "3.10.12"
  },
  "widgets": {
   "application/vnd.jupyter.widget-state+json": {
    "state": {
     "11b9970761c744a68fd8e04d6974203f": {
      "model_module": "@jupyter-widgets/controls",
      "model_module_version": "2.0.0",
      "model_name": "FloatProgressModel",
      "state": {
       "_dom_classes": [],
       "_model_module": "@jupyter-widgets/controls",
       "_model_module_version": "2.0.0",
       "_model_name": "FloatProgressModel",
       "_view_count": null,
       "_view_module": "@jupyter-widgets/controls",
       "_view_module_version": "2.0.0",
       "_view_name": "ProgressView",
       "bar_style": "success",
       "description": "",
       "description_allow_html": false,
       "layout": "IPY_MODEL_1891f0b48de54f69a671c18f39e0a173",
       "max": 2,
       "min": 0,
       "orientation": "horizontal",
       "style": "IPY_MODEL_e2d42248d88b4295a4574e0f7afdb853",
       "tabbable": null,
       "tooltip": null,
       "value": 2
      }
     },
     "17b8f1e631ad46fc84d3a8fc2ce02667": {
      "model_module": "@jupyter-widgets/base",
      "model_module_version": "2.0.0",
      "model_name": "LayoutModel",
      "state": {
       "_model_module": "@jupyter-widgets/base",
       "_model_module_version": "2.0.0",
       "_model_name": "LayoutModel",
       "_view_count": null,
       "_view_module": "@jupyter-widgets/base",
       "_view_module_version": "2.0.0",
       "_view_name": "LayoutView",
       "align_content": null,
       "align_items": null,
       "align_self": null,
       "border_bottom": null,
       "border_left": null,
       "border_right": null,
       "border_top": null,
       "bottom": null,
       "display": null,
       "flex": null,
       "flex_flow": null,
       "grid_area": null,
       "grid_auto_columns": null,
       "grid_auto_flow": null,
       "grid_auto_rows": null,
       "grid_column": null,
       "grid_gap": null,
       "grid_row": null,
       "grid_template_areas": null,
       "grid_template_columns": null,
       "grid_template_rows": null,
       "height": null,
       "justify_content": null,
       "justify_items": null,
       "left": null,
       "margin": null,
       "max_height": null,
       "max_width": null,
       "min_height": null,
       "min_width": null,
       "object_fit": null,
       "object_position": null,
       "order": null,
       "overflow": null,
       "padding": null,
       "right": null,
       "top": null,
       "visibility": null,
       "width": null
      }
     },
     "1891f0b48de54f69a671c18f39e0a173": {
      "model_module": "@jupyter-widgets/base",
      "model_module_version": "2.0.0",
      "model_name": "LayoutModel",
      "state": {
       "_model_module": "@jupyter-widgets/base",
       "_model_module_version": "2.0.0",
       "_model_name": "LayoutModel",
       "_view_count": null,
       "_view_module": "@jupyter-widgets/base",
       "_view_module_version": "2.0.0",
       "_view_name": "LayoutView",
       "align_content": null,
       "align_items": null,
       "align_self": null,
       "border_bottom": null,
       "border_left": null,
       "border_right": null,
       "border_top": null,
       "bottom": null,
       "display": null,
       "flex": null,
       "flex_flow": null,
       "grid_area": null,
       "grid_auto_columns": null,
       "grid_auto_flow": null,
       "grid_auto_rows": null,
       "grid_column": null,
       "grid_gap": null,
       "grid_row": null,
       "grid_template_areas": null,
       "grid_template_columns": null,
       "grid_template_rows": null,
       "height": null,
       "justify_content": null,
       "justify_items": null,
       "left": null,
       "margin": null,
       "max_height": null,
       "max_width": null,
       "min_height": null,
       "min_width": null,
       "object_fit": null,
       "object_position": null,
       "order": null,
       "overflow": null,
       "padding": null,
       "right": null,
       "top": null,
       "visibility": null,
       "width": null
      }
     },
     "19ba4a8c5d0f47fab3669002d6941465": {
      "model_module": "@jupyter-widgets/controls",
      "model_module_version": "2.0.0",
      "model_name": "HTMLModel",
      "state": {
       "_dom_classes": [],
       "_model_module": "@jupyter-widgets/controls",
       "_model_module_version": "2.0.0",
       "_model_name": "HTMLModel",
       "_view_count": null,
       "_view_module": "@jupyter-widgets/controls",
       "_view_module_version": "2.0.0",
       "_view_name": "HTMLView",
       "description": "",
       "description_allow_html": false,
       "layout": "IPY_MODEL_31f91737f5da45b18743df2aabb7cdef",
       "placeholder": "​",
       "style": "IPY_MODEL_33724647d8f847968e6c1db1096b716c",
       "tabbable": null,
       "tooltip": null,
       "value": "Loading checkpoint shards: 100%"
      }
     },
     "31f91737f5da45b18743df2aabb7cdef": {
      "model_module": "@jupyter-widgets/base",
      "model_module_version": "2.0.0",
      "model_name": "LayoutModel",
      "state": {
       "_model_module": "@jupyter-widgets/base",
       "_model_module_version": "2.0.0",
       "_model_name": "LayoutModel",
       "_view_count": null,
       "_view_module": "@jupyter-widgets/base",
       "_view_module_version": "2.0.0",
       "_view_name": "LayoutView",
       "align_content": null,
       "align_items": null,
       "align_self": null,
       "border_bottom": null,
       "border_left": null,
       "border_right": null,
       "border_top": null,
       "bottom": null,
       "display": null,
       "flex": null,
       "flex_flow": null,
       "grid_area": null,
       "grid_auto_columns": null,
       "grid_auto_flow": null,
       "grid_auto_rows": null,
       "grid_column": null,
       "grid_gap": null,
       "grid_row": null,
       "grid_template_areas": null,
       "grid_template_columns": null,
       "grid_template_rows": null,
       "height": null,
       "justify_content": null,
       "justify_items": null,
       "left": null,
       "margin": null,
       "max_height": null,
       "max_width": null,
       "min_height": null,
       "min_width": null,
       "object_fit": null,
       "object_position": null,
       "order": null,
       "overflow": null,
       "padding": null,
       "right": null,
       "top": null,
       "visibility": null,
       "width": null
      }
     },
     "33724647d8f847968e6c1db1096b716c": {
      "model_module": "@jupyter-widgets/controls",
      "model_module_version": "2.0.0",
      "model_name": "HTMLStyleModel",
      "state": {
       "_model_module": "@jupyter-widgets/controls",
       "_model_module_version": "2.0.0",
       "_model_name": "HTMLStyleModel",
       "_view_count": null,
       "_view_module": "@jupyter-widgets/base",
       "_view_module_version": "2.0.0",
       "_view_name": "StyleView",
       "background": null,
       "description_width": "",
       "font_size": null,
       "text_color": null
      }
     },
     "5b67bbef45b949179b904ac3f6569e89": {
      "model_module": "@jupyter-widgets/controls",
      "model_module_version": "2.0.0",
      "model_name": "HBoxModel",
      "state": {
       "_dom_classes": [],
       "_model_module": "@jupyter-widgets/controls",
       "_model_module_version": "2.0.0",
       "_model_name": "HBoxModel",
       "_view_count": null,
       "_view_module": "@jupyter-widgets/controls",
       "_view_module_version": "2.0.0",
       "_view_name": "HBoxView",
       "box_style": "",
       "children": [
        "IPY_MODEL_19ba4a8c5d0f47fab3669002d6941465",
        "IPY_MODEL_11b9970761c744a68fd8e04d6974203f",
        "IPY_MODEL_b928706e0df24b2b9e0ebbe1674624b6"
       ],
       "layout": "IPY_MODEL_b9a58a16fba94f0f8aee49e13cea46c2",
       "tabbable": null,
       "tooltip": null
      }
     },
     "70ccab24526e4cbb88c1dce90043f5ef": {
      "model_module": "@jupyter-widgets/controls",
      "model_module_version": "2.0.0",
      "model_name": "HTMLStyleModel",
      "state": {
       "_model_module": "@jupyter-widgets/controls",
       "_model_module_version": "2.0.0",
       "_model_name": "HTMLStyleModel",
       "_view_count": null,
       "_view_module": "@jupyter-widgets/base",
       "_view_module_version": "2.0.0",
       "_view_name": "StyleView",
       "background": null,
       "description_width": "",
       "font_size": null,
       "text_color": null
      }
     },
     "b928706e0df24b2b9e0ebbe1674624b6": {
      "model_module": "@jupyter-widgets/controls",
      "model_module_version": "2.0.0",
      "model_name": "HTMLModel",
      "state": {
       "_dom_classes": [],
       "_model_module": "@jupyter-widgets/controls",
       "_model_module_version": "2.0.0",
       "_model_name": "HTMLModel",
       "_view_count": null,
       "_view_module": "@jupyter-widgets/controls",
       "_view_module_version": "2.0.0",
       "_view_name": "HTMLView",
       "description": "",
       "description_allow_html": false,
       "layout": "IPY_MODEL_17b8f1e631ad46fc84d3a8fc2ce02667",
       "placeholder": "​",
       "style": "IPY_MODEL_70ccab24526e4cbb88c1dce90043f5ef",
       "tabbable": null,
       "tooltip": null,
       "value": " 2/2 [00:11&lt;00:00,  5.36s/it]"
      }
     },
     "b9a58a16fba94f0f8aee49e13cea46c2": {
      "model_module": "@jupyter-widgets/base",
      "model_module_version": "2.0.0",
      "model_name": "LayoutModel",
      "state": {
       "_model_module": "@jupyter-widgets/base",
       "_model_module_version": "2.0.0",
       "_model_name": "LayoutModel",
       "_view_count": null,
       "_view_module": "@jupyter-widgets/base",
       "_view_module_version": "2.0.0",
       "_view_name": "LayoutView",
       "align_content": null,
       "align_items": null,
       "align_self": null,
       "border_bottom": null,
       "border_left": null,
       "border_right": null,
       "border_top": null,
       "bottom": null,
       "display": null,
       "flex": null,
       "flex_flow": null,
       "grid_area": null,
       "grid_auto_columns": null,
       "grid_auto_flow": null,
       "grid_auto_rows": null,
       "grid_column": null,
       "grid_gap": null,
       "grid_row": null,
       "grid_template_areas": null,
       "grid_template_columns": null,
       "grid_template_rows": null,
       "height": null,
       "justify_content": null,
       "justify_items": null,
       "left": null,
       "margin": null,
       "max_height": null,
       "max_width": null,
       "min_height": null,
       "min_width": null,
       "object_fit": null,
       "object_position": null,
       "order": null,
       "overflow": null,
       "padding": null,
       "right": null,
       "top": null,
       "visibility": null,
       "width": null
      }
     },
     "e2d42248d88b4295a4574e0f7afdb853": {
      "model_module": "@jupyter-widgets/controls",
      "model_module_version": "2.0.0",
      "model_name": "ProgressStyleModel",
      "state": {
       "_model_module": "@jupyter-widgets/controls",
       "_model_module_version": "2.0.0",
       "_model_name": "ProgressStyleModel",
       "_view_count": null,
       "_view_module": "@jupyter-widgets/base",
       "_view_module_version": "2.0.0",
       "_view_name": "StyleView",
       "bar_color": null,
       "description_width": ""
      }
     }
    },
    "version_major": 2,
    "version_minor": 0
   }
  }
 },
 "nbformat": 4,
 "nbformat_minor": 4
}
